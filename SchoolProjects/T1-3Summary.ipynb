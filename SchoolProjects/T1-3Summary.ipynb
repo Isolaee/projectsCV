{
 "cells": [
  {
   "cell_type": "markdown",
   "metadata": {},
   "source": [
    "RainyDays"
   ]
  },
  {
   "cell_type": "code",
   "execution_count": 43,
   "metadata": {},
   "outputs": [],
   "source": [
    "# TODO: print first 4 lines from the file (check that the file exists)\n",
    "import numpy as np\n",
    "import pandas as pd\n",
    "\n",
    "# use pandas to extract rainfall as a NumPy array\n",
    "rainfall = pd.read_csv('Seattle2014.csv')['PRCP'].values\n",
    "# TODO: convert mm to inches and print shape (should be 365)\n",
    "inches = rainfall/254.0"
   ]
  },
  {
   "cell_type": "code",
   "execution_count": 44,
   "metadata": {},
   "outputs": [
    {
     "data": {
      "text/plain": [
       "(array([245.,  14.,  13.,  17.,   8.,   6.,   5.,   6.,   4.,   3.,   7.,\n",
       "          6.,   3.,   3.,   3.,   4.,   4.,   2.,   4.,   0.,   0.,   1.,\n",
       "          1.,   1.,   0.,   0.,   0.,   2.,   1.,   1.,   0.,   0.,   0.,\n",
       "          0.,   0.,   0.,   0.,   0.,   0.,   1.]),\n",
       " array([0.        , 0.04596457, 0.09192913, 0.1378937 , 0.18385827,\n",
       "        0.22982283, 0.2757874 , 0.32175197, 0.36771654, 0.4136811 ,\n",
       "        0.45964567, 0.50561024, 0.5515748 , 0.59753937, 0.64350394,\n",
       "        0.6894685 , 0.73543307, 0.78139764, 0.8273622 , 0.87332677,\n",
       "        0.91929134, 0.96525591, 1.01122047, 1.05718504, 1.10314961,\n",
       "        1.14911417, 1.19507874, 1.24104331, 1.28700787, 1.33297244,\n",
       "        1.37893701, 1.42490157, 1.47086614, 1.51683071, 1.56279528,\n",
       "        1.60875984, 1.65472441, 1.70068898, 1.74665354, 1.79261811,\n",
       "        1.83858268]),\n",
       " <BarContainer object of 40 artists>)"
      ]
     },
     "execution_count": 44,
     "metadata": {},
     "output_type": "execute_result"
    },
    {
     "data": {
      "image/png": "[encoded data removed]",
      "text/plain": [
       "<Figure size 640x480 with 1 Axes>"
      ]
     },
     "metadata": {},
     "output_type": "display_data"
    }
   ],
   "source": [
    "%matplotlib inline\n",
    "import matplotlib.pyplot as plt\n",
    "import seaborn; seaborn.set()  # set plot styles\n",
    "\n",
    "# TODO: plot histogram (use 40 bins)\n",
    "plt.hist(inches, 40)"
   ]
  },
  {
   "cell_type": "code",
   "execution_count": 45,
   "metadata": {},
   "outputs": [
    {
     "name": "stdout",
     "output_type": "stream",
     "text": [
      "Number of days without rain:  215\n",
      "Number of days more than 0.5 inch rain:  37\n",
      "Number of days less than 0.2 inch rain:  75\n"
     ]
    }
   ],
   "source": [
    "# TODO: print statistical info:\n",
    "# - nbr of days with and without rain\n",
    "# - nbr of days with more than 0.5 inches rain\n",
    "# - nbr of days with rain less than 0.2 inches\n",
    "\n",
    "print(\"Number of days without rain: \", np.sum(inches == 0))\n",
    "print(\"Number of days more than 0.5 inch rain: \", np.sum(inches > 0.5))\n",
    "print(\"Number of days less than 0.2 inch rain: \", np.sum((inches > 0)&(inches < 0.2)))"
   ]
  },
  {
   "cell_type": "code",
   "execution_count": 46,
   "metadata": {},
   "outputs": [
    {
     "name": "stdout",
     "output_type": "stream",
     "text": [
      "Median Percip of rainy days:  0.19488188976377951\n",
      "Median Percip of summer days:  0.0\n",
      "Max Percip of summer days:  0.8503937007874016\n",
      "Median Percip of non-summer days:  0.20078740157480315\n"
     ]
    }
   ],
   "source": [
    "# TODO: construct mask for rainy days and summer days\n",
    "# - printout median percip of rainy days\n",
    "# - printout median percip of summer days\n",
    "# - printout max percip of summer days\n",
    "# - printout median percip of non-summer rainy days\n",
    "\n",
    "# Mask for rainy days\n",
    "rainy = (inches > 0)\n",
    "days = np.arange(365)\n",
    "summer = ((days > 172) & (days < 172+90))\n",
    "print(\"Median Percip of rainy days: \", np.median(inches[rainy]))\n",
    "print(\"Median Percip of summer days: \", np.median(inches[summer]))\n",
    "print(\"Max Percip of summer days: \", np.max(inches[summer]))\n",
    "print(\"Median Percip of non-summer days: \", np.median(inches[rainy & ~summer]))"
   ]
  },
  {
   "cell_type": "markdown",
   "metadata": {},
   "source": [
    "President heights"
   ]
  },
  {
   "cell_type": "code",
   "execution_count": 47,
   "metadata": {},
   "outputs": [
    {
     "name": "stdout",
     "output_type": "stream",
     "text": [
      "order,name,height(cm)\n",
      "1,George Washington,189\n",
      "2,John Adams,170\n",
      "3,Thomas Jefferson,189\n",
      "4,James Madison,163\n",
      "5,James Monroe,183\n",
      "6,John Quincy Adams,171\n",
      "7,Andrew Jackson,185\n",
      "8,Martin Van Buren,168\n",
      "9,William Henry Harrison,173\n",
      "10,John Tyler,183\n",
      "11,James K. Polk,173\n",
      "12,Zachary Taylor,173\n",
      "13,Millard Fillmore,175\n",
      "14,Franklin Pierce,178\n",
      "15,James Buchanan,183\n",
      "16,Abraham Lincoln,193\n",
      "17,Andrew Johnson,178\n",
      "18,Ulysses S. Grant,173\n",
      "19,Rutherford B. Hayes,174\n",
      "20,James A. Garfield,183\n",
      "21,Chester A. Arthur,183\n",
      "23,Benjamin Harrison,168\n",
      "25,William McKinley,170\n",
      "26,Theodore Roosevelt,178\n",
      "27,William Howard Taft,182\n",
      "28,Woodrow Wilson,180\n",
      "29,Warren G. Harding,183\n",
      "30,Calvin Coolidge,178\n",
      "31,Herbert Hoover,182\n",
      "32,Franklin D. Roosevelt,188\n",
      "33,Harry S. Truman,175\n",
      "34,Dwight D. Eisenhower,179\n",
      "35,John F. Kennedy,183\n",
      "36,Lyndon B. Johnson,193\n",
      "37,Richard Nixon,182\n",
      "38,Gerald Ford,183\n",
      "39,Jimmy Carter,177\n",
      "40,Ronald Reagan,185\n",
      "41,George H. W. Bush,188\n",
      "42,Bill Clinton,188\n",
      "43,George W. Bush,182\n",
      "44,Barack Obama,185\n",
      "45,Donald Trump,190\n",
      "46,Joe Biden,183\n"
     ]
    }
   ],
   "source": [
    "# TODO: print first 4 lines from the file\n",
    "!type president_heights.csv\n",
    "# head -n 4 data/president_heights.csv"
   ]
  },
  {
   "cell_type": "code",
   "execution_count": 48,
   "metadata": {},
   "outputs": [
    {
     "name": "stdout",
     "output_type": "stream",
     "text": [
      "    order                    name  height(cm)\n",
      "0       1       George Washington         189\n",
      "1       2              John Adams         170\n",
      "2       3        Thomas Jefferson         189\n",
      "3       4           James Madison         163\n",
      "4       5            James Monroe         183\n",
      "5       6       John Quincy Adams         171\n",
      "6       7          Andrew Jackson         185\n",
      "7       8        Martin Van Buren         168\n",
      "8       9  William Henry Harrison         173\n",
      "9      10              John Tyler         183\n",
      "10     11           James K. Polk         173\n",
      "11     12          Zachary Taylor         173\n",
      "12     13        Millard Fillmore         175\n",
      "13     14         Franklin Pierce         178\n",
      "14     15          James Buchanan         183\n",
      "15     16         Abraham Lincoln         193\n",
      "16     17          Andrew Johnson         178\n",
      "17     18        Ulysses S. Grant         173\n",
      "18     19     Rutherford B. Hayes         174\n",
      "19     20       James A. Garfield         183\n",
      "20     21       Chester A. Arthur         183\n",
      "21     23       Benjamin Harrison         168\n",
      "22     25        William McKinley         170\n",
      "23     26      Theodore Roosevelt         178\n",
      "24     27     William Howard Taft         182\n",
      "25     28          Woodrow Wilson         180\n",
      "26     29       Warren G. Harding         183\n",
      "27     30         Calvin Coolidge         178\n",
      "28     31          Herbert Hoover         182\n",
      "29     32   Franklin D. Roosevelt         188\n",
      "30     33         Harry S. Truman         175\n",
      "31     34    Dwight D. Eisenhower         179\n",
      "32     35         John F. Kennedy         183\n",
      "33     36       Lyndon B. Johnson         193\n",
      "34     37           Richard Nixon         182\n",
      "35     38             Gerald Ford         183\n",
      "36     39            Jimmy Carter         177\n",
      "37     40           Ronald Reagan         185\n",
      "38     41       George H. W. Bush         188\n",
      "39     42            Bill Clinton         188\n",
      "40     43          George W. Bush         182\n",
      "41     44            Barack Obama         185\n",
      "42     45            Donald Trump         190\n",
      "43     46               Joe Biden         183\n"
     ]
    }
   ],
   "source": [
    "import numpy as np\n",
    "import pandas as pd\n",
    "data = pd.read_csv('president_heights.csv')\n",
    "\n",
    "# TODO: extract the heights and print it to screen\n",
    "print(data)"
   ]
  },
  {
   "cell_type": "code",
   "execution_count": 49,
   "metadata": {},
   "outputs": [
    {
     "name": "stdout",
     "output_type": "stream",
     "text": [
      "0     189\n",
      "1     170\n",
      "2     189\n",
      "3     163\n",
      "4     183\n",
      "5     171\n",
      "6     185\n",
      "7     168\n",
      "8     173\n",
      "9     183\n",
      "10    173\n",
      "11    173\n",
      "12    175\n",
      "13    178\n",
      "14    183\n",
      "15    193\n",
      "16    178\n",
      "17    173\n",
      "18    174\n",
      "19    183\n",
      "20    183\n",
      "21    168\n",
      "22    170\n",
      "23    178\n",
      "24    182\n",
      "25    180\n",
      "26    183\n",
      "27    178\n",
      "28    182\n",
      "29    188\n",
      "30    175\n",
      "31    179\n",
      "32    183\n",
      "33    193\n",
      "34    182\n",
      "35    183\n",
      "36    177\n",
      "37    185\n",
      "38    188\n",
      "39    188\n",
      "40    182\n",
      "41    185\n",
      "42    190\n",
      "43    183\n",
      "Name: height(cm), dtype: int64\n"
     ]
    }
   ],
   "source": [
    "# ToDo: display the data\n",
    "print(data[\"height(cm)\"])"
   ]
  },
  {
   "cell_type": "code",
   "execution_count": 50,
   "metadata": {},
   "outputs": [
    {
     "name": "stdout",
     "output_type": "stream",
     "text": [
      "Mean         : 180.04545454545453\n",
      "Std          : 6.957515705579717\n",
      "Min          : 163\n",
      "Max          : 193\n",
      "Median       : 182.0\n",
      "Percentile-25: 174.75\n",
      "Percentile-75: 183.5\n"
     ]
    }
   ],
   "source": [
    "# TODO: print summary statistics: mean, std deviation, min and max, median, 25% and 75% percentiles\n",
    "print(\"Mean         :\",np.mean(data[\"height(cm)\"]))\n",
    "print(\"Std          :\",np.std(data[\"height(cm)\"]))\n",
    "print(\"Min          :\",np.min(data[\"height(cm)\"]))\n",
    "print(\"Max          :\",np.max(data[\"height(cm)\"]))\n",
    "print(\"Median       :\",np.median(data[\"height(cm)\"]))\n",
    "print(\"Percentile-25:\", np.percentile(data[\"height(cm)\"], 25))\n",
    "print(\"Percentile-75:\", np.percentile(data[\"height(cm)\"], 75))"
   ]
  },
  {
   "cell_type": "code",
   "execution_count": 51,
   "metadata": {},
   "outputs": [
    {
     "data": {
      "text/plain": [
       "Text(0, 0.5, 'Index')"
      ]
     },
     "execution_count": 51,
     "metadata": {},
     "output_type": "execute_result"
    },
    {
     "data": {
      "image/png": "[encoded data removed]",
      "text/plain": [
       "<Figure size 640x480 with 1 Axes>"
      ]
     },
     "metadata": {},
     "output_type": "display_data"
    }
   ],
   "source": [
    "%matplotlib inline\n",
    "import matplotlib.pyplot as plt\n",
    "import seaborn; seaborn.set()  # set plot style\n",
    "height = np.array(data[\"height(cm)\"])\n",
    "# TODO: draw histogram with title and x and y labels\n",
    "plt.hist(height)\n",
    "plt.title(\"Height distribution of US presidents\")\n",
    "plt.xlabel(\"Height [cm]\")\n",
    "plt.ylabel(\"Index\")"
   ]
  },
  {
   "cell_type": "markdown",
   "metadata": {},
   "source": [
    "# Selecting Random Points  \n",
    "\n",
    "One common use of fancy indexing is the selection of subsets of rows from a matrix. For example, we might have an $N$ by $D$ matrix representing $N$ points in $D$ dimensions, such as the following points drawn from a two-dimensional normal distribution:"
   ]
  },
  {
   "cell_type": "code",
   "execution_count": 63,
   "metadata": {},
   "outputs": [
    {
     "data": {
      "image/png": "[encoded data removed]",
      "text/plain": [
       "<Figure size 640x480 with 1 Axes>"
      ]
     },
     "metadata": {},
     "output_type": "display_data"
    }
   ],
   "source": [
    "import numpy as np\n",
    "import matplotlib.pyplot as plt\n",
    "import seaborn; seaborn.set()  # for plot styling\n",
    "\n",
    "rand = np.random.RandomState(42)\n",
    "\n",
    "mean = [0, 0]\n",
    "cov = [[1, 2],\n",
    "       [2, 5]]\n",
    "\n",
    "# ToDo: Generate 100 x 2 sample data and plot the data (scatter plot)\n",
    "\n",
    "s1 = np.random.randint(10, size = (100))\n",
    "s2 = np.random.randint(10, size = (100))\n",
    "\n",
    "\n",
    "base = plt.scatter(s1,s2)\n"
   ]
  },
  {
   "cell_type": "markdown",
   "metadata": {},
   "source": [
    "Let’s use fancy indexing to select 20 random points. We’ll do this by first choosing 20 random indices with no repeats, and use these indices to select a portion of the original array:"
   ]
  },
  {
   "cell_type": "code",
   "execution_count": 62,
   "metadata": {},
   "outputs": [
    {
     "name": "stdout",
     "output_type": "stream",
     "text": [
      "[8 5 0 0 9 6 1 0 0 8 0 0 4 0 4 9 3 8 9 2] [4 6 3 8 0 9 7 3 9 4 5 9 2 9 0 2 6 4 8 1]\n"
     ]
    }
   ],
   "source": [
    "# ToDo: select 20 random indecis\n",
    "#s0 = np.append(s1, s2)\n",
    "\n",
    "hide = []\n",
    "\n",
    "# ToDo: select the random points from the dataset and print the items selected\n",
    "for i in range(0, 20):\n",
    "    hide.append(np.random.randint(0,100))\n",
    "\n",
    "fancyIndex1 = s1[hide]\n",
    "fancyIndex2 = s2[hide]\n",
    "print(fancyIndex1, fancyIndex2)"
   ]
  },
  {
   "cell_type": "markdown",
   "metadata": {},
   "source": [
    "Now to see which points were selected, let’s over-plot large circles at the locations of the selected points"
   ]
  },
  {
   "cell_type": "code",
   "execution_count": 66,
   "metadata": {},
   "outputs": [
    {
     "data": {
      "image/png": "[encoded data removed]",
      "text/plain": [
       "<Figure size 640x480 with 1 Axes>"
      ]
     },
     "metadata": {},
     "output_type": "display_data"
    }
   ],
   "source": [
    "# ToDo: plot the dataset plus selected samples\n",
    "base = plt.scatter(s1,s2)\n",
    "overPlot = plt.scatter(fancyIndex1, fancyIndex2, s = 100)\n"
   ]
  },
  {
   "cell_type": "markdown",
   "metadata": {},
   "source": [
    "> This sort of strategy is often used to quickly partition datasets, as is often needed in train/test splitting for validation of statistical models, and in sampling approaches to answering statistical questions."
   ]
  }
 ],
 "metadata": {
  "kernelspec": {
   "display_name": "Python 3",
   "language": "python",
   "name": "python3"
  },
  "language_info": {
   "codemirror_mode": {
    "name": "ipython",
    "version": 3
   },
   "file_extension": ".py",
   "mimetype": "text/x-python",
   "name": "python",
   "nbconvert_exporter": "python",
   "pygments_lexer": "ipython3",
   "version": "3.11.9"
  }
 },
 "nbformat": 4,
 "nbformat_minor": 2
}
